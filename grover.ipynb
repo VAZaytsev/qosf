{
 "cells": [
  {
   "cell_type": "code",
   "execution_count": 2,
   "id": "7ffb1654-770d-46f0-be3b-e412d3089ca3",
   "metadata": {},
   "outputs": [],
   "source": [
    "import math\n",
    "import numpy as np\n",
    "import itertools\n",
    "\n",
    "from qiskit import *"
   ]
  },
  {
   "cell_type": "code",
   "execution_count": 3,
   "id": "d8e3f717-77e7-47df-8219-3c0c995f98ed",
   "metadata": {},
   "outputs": [
    {
     "name": "stdout",
     "output_type": "stream",
     "text": [
      "Special numbers are 5 ( 0101 ) and 10 ( 1010 )\n"
     ]
    }
   ],
   "source": [
    "# Number of qubits for storing the values of the integer vector\n",
    "N_v = 4\n",
    "\n",
    "# Determine *special* numbers 1010... 0101...\n",
    "bn_a = \"\".join([\"1\" if i%2 == 1 else \"0\" for i in range(N_v)])\n",
    "a = int( bn_a, 2)\n",
    "\n",
    "bn_b = \"\".join([\"0\" if i%2 == 1 else \"1\" for i in range(N_v)])\n",
    "b = int( bn_b, 2)\n",
    "print(\"Special numbers are\", a, \"(\",bn_a,\") and\", b,\"(\",bn_b,\")\")"
   ]
  },
  {
   "cell_type": "code",
   "execution_count": 4,
   "id": "4f071795-867f-4adf-af4f-4a4cfe201d42",
   "metadata": {},
   "outputs": [
    {
     "name": "stdout",
     "output_type": "stream",
     "text": [
      "r =  2\n"
     ]
    }
   ],
   "source": [
    "# Length of the vector\n",
    "N_l = 4\n",
    "Nvec_len = 2**N_l \n",
    "\n",
    "\n",
    "# Number of steps in Grover's algorithm\n",
    "r = math.floor( 0.25*math.pi / math.asin(1/math.sqrt(2**N_l)) - 0.5 )\n",
    "print( \"r = \", r )\n",
    "\n",
    "\n",
    "# Generation of an arbitrary integer-valued vector\n",
    "vec = [-1]*Nvec_len\n",
    "\n",
    "# Place *special* numbers on arbitrary positions\n",
    "vec[ np.random.randint(0, Nvec_len) ] = a\n",
    "\n",
    "while b not in vec:\n",
    "  pos = np.random.randint(0, Nvec_len)\n",
    "\n",
    "  if vec[pos] == a:\n",
    "    continue\n",
    "  vec[pos] = b\n",
    "\n",
    "# Fill in randomly the rest components of the vector\n",
    "for i in range(Nvec_len):\n",
    "  if vec[i] != -1:\n",
    "    continue\n",
    "\n",
    "  while True:\n",
    "    val = np.random.randint(0, 2**N_v)\n",
    "    if val in vec:\n",
    "      continue\n",
    "    vec[i] = val\n",
    "    break"
   ]
  },
  {
   "cell_type": "code",
   "execution_count": 5,
   "id": "81ee6c5f-86ab-4456-bdd7-95a4d921a4b4",
   "metadata": {},
   "outputs": [
    {
     "data": {
      "text/plain": [
       "<qiskit.circuit.instructionset.InstructionSet at 0x7fe6669eefd0>"
      ]
     },
     "execution_count": 5,
     "metadata": {},
     "output_type": "execute_result"
    }
   ],
   "source": [
    "# Generate the initial state of the system\n",
    "Nq_tot = N_l + N_v + 1\n",
    "qc_in = QuantumCircuit(Nq_tot, Nq_tot)\n",
    "\n",
    "qc_in.h(range(N_l))"
   ]
  },
  {
   "cell_type": "code",
   "execution_count": 6,
   "id": "aabd54f0-bf8d-43a1-93be-86fe08642e78",
   "metadata": {},
   "outputs": [
    {
     "name": "stdout",
     "output_type": "stream",
     "text": [
      "Integer-valued vector\n",
      "  position     value\n",
      " 0 ( 0000 )  1 ( 0001 ) \n",
      " 1 ( 0001 ) 15 ( 1111 ) \n",
      " 2 ( 0010 )  7 ( 0111 ) \n",
      " 3 ( 0011 ) 14 ( 1110 ) \n",
      " 4 ( 0100 )  9 ( 1001 ) \n",
      " 5 ( 0101 )  2 ( 0010 ) \n",
      " 6 ( 0110 )  6 ( 0110 ) \n",
      " 7 ( 0111 )  3 ( 0011 ) \n",
      " 8 ( 1000 )  5 ( 0101 ) !!!\n",
      " 9 ( 1001 ) 10 ( 1010 ) !!!\n",
      "10 ( 1010 ) 11 ( 1011 ) \n",
      "11 ( 1011 ) 13 ( 1101 ) \n",
      "12 ( 1100 )  0 ( 0000 ) \n",
      "13 ( 1101 ) 12 ( 1100 ) \n",
      "14 ( 1110 )  4 ( 0100 ) \n",
      "15 ( 1111 )  8 ( 1000 ) \n"
     ]
    }
   ],
   "source": [
    "# The quantum circuit encoding the vector of integers (U_n)\n",
    "qc_U_n = QuantumCircuit(Nq_tot, Nq_tot)\n",
    "\n",
    "print(\"Integer-valued vector\")\n",
    "print(f'{\"position\": >10}', f'{\"value\": >9}')\n",
    "for i,x in enumerate(vec):\n",
    "  i_bn = bin(i)[2:].zfill(N_l)\n",
    "  x_bn = bin(x)[2:].zfill(N_v)\n",
    "\n",
    "  txt = \"\"\n",
    "  if x_bn == bn_a or x_bn == bn_b:\n",
    "    txt = \"!!!\"\n",
    "  print(f'{i: >2}',\"(\",i_bn,\")\", f'{x: >2}', \"(\",x_bn,\")\", txt)\n",
    "\n",
    "  for ia, a in enumerate(i_bn):\n",
    "    if a == \"0\":\n",
    "      qc_U_n.x(N_l - 1 - ia)\n",
    "\n",
    "  for n,b in enumerate(x_bn):\n",
    "    if b == \"1\":\n",
    "      qc_U_n.mct(list(range(N_l)), N_l + N_v - 1 - n)\n",
    "\n",
    "  for ia, a in enumerate(i_bn):\n",
    "    if a == \"0\":\n",
    "      qc_U_n.x(N_l - 1 - ia)"
   ]
  },
  {
   "cell_type": "code",
   "execution_count": 7,
   "id": "978e0ecc-5e8c-42f7-9c12-f74f3f132507",
   "metadata": {},
   "outputs": [],
   "source": [
    "# Construct the circuit for U_f\n",
    "qc_mark = QuantumCircuit(Nq_tot, Nq_tot)\n",
    "\n",
    "qc_a = QuantumCircuit(Nq_tot, Nq_tot)\n",
    "qc_b = QuantumCircuit(Nq_tot, Nq_tot)\n",
    "\n",
    "for ii in range(N_v):\n",
    "  if ii%2 == 0:\n",
    "    qc_a.x(N_l + ii)\n",
    "  else:\n",
    "    qc_b.x(N_l + ii)\n",
    "\n",
    "qc_mark = qc_mark.compose(qc_a)\n",
    "qc_mark.mct( list(range(N_l,N_l+N_v)), N_l + N_v)\n",
    "qc_mark = qc_mark.compose(qc_a)\n",
    "\n",
    "qc_mark = qc_mark.compose(qc_b)\n",
    "qc_mark.mct( list(range(N_l,N_l+N_v)), N_l + N_v)\n",
    "qc_mark = qc_mark.compose(qc_b)\n",
    "\n",
    "qc_Uf = QuantumCircuit(Nq_tot, Nq_tot)\n",
    "qc_Uf = qc_Uf.compose(qc_U_n)\n",
    "qc_Uf = qc_Uf.compose(qc_mark)\n",
    "qc_Uf.z(N_l + N_v)\n",
    "qc_Uf = qc_Uf.compose(qc_mark)\n",
    "qc_Uf = qc_Uf.compose(qc_U_n)"
   ]
  },
  {
   "cell_type": "code",
   "execution_count": 8,
   "id": "a624095d-222b-4072-99a4-655c8db20a14",
   "metadata": {},
   "outputs": [
    {
     "data": {
      "text/plain": [
       "<qiskit.circuit.instructionset.InstructionSet at 0x7fe666a52f40>"
      ]
     },
     "execution_count": 8,
     "metadata": {},
     "output_type": "execute_result"
    }
   ],
   "source": [
    "# Construct the circuit for V = H U_f_0 H\n",
    "qc_V = QuantumCircuit(Nq_tot, Nq_tot)\n",
    "qc_V.h(range(N_l))\n",
    "qc_V.x(range(N_l))\n",
    "qc_V.mct( list(range(N_l)), N_l + N_v)\n",
    "qc_V.z(N_l + N_v)\n",
    "qc_V.mct( list(range(N_l)), N_l + N_v)\n",
    "qc_V.x(range(N_l))\n",
    "qc_V.h(range(N_l))"
   ]
  },
  {
   "cell_type": "code",
   "execution_count": 9,
   "id": "719a46a6-5817-44e6-bcd9-e1b122f7e006",
   "metadata": {},
   "outputs": [
    {
     "data": {
      "text/plain": [
       "<qiskit.circuit.instructionset.InstructionSet at 0x7fe6668b6220>"
      ]
     },
     "execution_count": 9,
     "metadata": {},
     "output_type": "execute_result"
    }
   ],
   "source": [
    "# Measurement\n",
    "qc_meas = QuantumCircuit(Nq_tot, Nq_tot)\n",
    "qc_meas.measure( range(Nq_tot), range(Nq_tot) )"
   ]
  },
  {
   "cell_type": "code",
   "execution_count": 10,
   "id": "823fc050-d579-4892-9b18-f4d0b4dedcca",
   "metadata": {},
   "outputs": [],
   "source": [
    "# Construct the whole circuit\n",
    "qc_tot = QuantumCircuit(Nq_tot, Nq_tot)\n",
    "\n",
    "qc_tot = qc_tot.compose(qc_in)\n",
    "\n",
    "for ir in range(r):\n",
    "  qc_tot = qc_tot.compose(qc_Uf)\n",
    "  qc_tot = qc_tot.compose(qc_V)\n",
    "\n",
    "qc_tot = qc_tot.compose(qc_meas)"
   ]
  },
  {
   "cell_type": "code",
   "execution_count": 11,
   "id": "3dfa9531-bef9-4e3c-b06b-4530a4d44202",
   "metadata": {},
   "outputs": [],
   "source": [
    "# Launch on simulator with 1000 shots\n",
    "simulator = Aer.get_backend('qasm_simulator')\n",
    "res = execute(qc_tot, \n",
    "              backend = simulator).result()\n",
    "dct = res.get_counts()"
   ]
  },
  {
   "cell_type": "code",
   "execution_count": 12,
   "id": "1df874c6-2a60-4dee-b3f3-b57920cbec08",
   "metadata": {},
   "outputs": [
    {
     "name": "stdout",
     "output_type": "stream",
     "text": [
      "The measured state is\n",
      "8 1000 463\n",
      "9 1001 511\n"
     ]
    }
   ],
   "source": [
    "# Print the results which are larger than the statistical error\n",
    "print(\"The measured state is\")\n",
    "for k in dct.keys():\n",
    "  if dct[k]*1.e-3 < 2 / math.sqrt(1000):\n",
    "    continue\n",
    "  print(int(k[1+N_v:],2), k[1+N_v:], dct[k])"
   ]
  }
 ],
 "metadata": {
  "kernelspec": {
   "display_name": "Qiskit v0.29.0",
   "language": "python",
   "name": "python3"
  },
  "language_info": {
   "codemirror_mode": {
    "name": "ipython",
    "version": 3
   },
   "file_extension": ".py",
   "mimetype": "text/x-python",
   "name": "python",
   "nbconvert_exporter": "python",
   "pygments_lexer": "ipython3",
   "version": "3.8.10"
  },
  "widgets": {
   "application/vnd.jupyter.widget-state+json": {
    "state": {
     "069042f1218346c182660bf6b1b47317": {
      "model_module": "@jupyter-widgets/controls",
      "model_module_version": "1.5.0",
      "model_name": "HTMLModel",
      "state": {
       "layout": "IPY_MODEL_84eb828458034822969e6e5f817252db",
       "style": "IPY_MODEL_21750feb70334d719b6a97a923c10cd2",
       "value": "<h5>Queue</h5>"
      }
     },
     "0a044dfb52f94a1080c60df95701ed62": {
      "model_module": "@jupyter-widgets/controls",
      "model_module_version": "1.5.0",
      "model_name": "ButtonStyleModel",
      "state": {}
     },
     "0a3384331eaa41a68707d2a438f0e1b1": {
      "model_module": "@jupyter-widgets/controls",
      "model_module_version": "1.5.0",
      "model_name": "HBoxModel",
      "state": {
       "children": [
        "IPY_MODEL_f3a2db5c49b344758403fd480b996566",
        "IPY_MODEL_314c1e35fb514d5d9319073dac04fdb2",
        "IPY_MODEL_17e97e55771249cbae868e1e237dbad3",
        "IPY_MODEL_069042f1218346c182660bf6b1b47317",
        "IPY_MODEL_133b34ac6c2749a19f30093bfeda8b11"
       ],
       "layout": "IPY_MODEL_4b3236e9beca4db6a698ae28dbc1e22c"
      }
     },
     "1156c2b8e8024884bd563f996d9b76e2": {
      "model_module": "@jupyter-widgets/base",
      "model_module_version": "1.2.0",
      "model_name": "LayoutModel",
      "state": {
       "width": "95px"
      }
     },
     "133b34ac6c2749a19f30093bfeda8b11": {
      "model_module": "@jupyter-widgets/controls",
      "model_module_version": "1.5.0",
      "model_name": "HTMLModel",
      "state": {
       "layout": "IPY_MODEL_a5fbee9aaab74a10ad7af5ba885dbf3c",
       "style": "IPY_MODEL_2e1a2ca1b8974e2899b0e9f1161ea4d1",
       "value": "<h5>Message</h5>"
      }
     },
     "17e97e55771249cbae868e1e237dbad3": {
      "model_module": "@jupyter-widgets/controls",
      "model_module_version": "1.5.0",
      "model_name": "HTMLModel",
      "state": {
       "layout": "IPY_MODEL_1156c2b8e8024884bd563f996d9b76e2",
       "style": "IPY_MODEL_ab1474fceb0046de887ba8f05f138ea6",
       "value": "<h5>Status</h5>"
      }
     },
     "1f12ec472080464bbdfff6246cf88bc9": {
      "model_module": "@jupyter-widgets/controls",
      "model_module_version": "1.5.0",
      "model_name": "DescriptionStyleModel",
      "state": {
       "description_width": ""
      }
     },
     "21750feb70334d719b6a97a923c10cd2": {
      "model_module": "@jupyter-widgets/controls",
      "model_module_version": "1.5.0",
      "model_name": "DescriptionStyleModel",
      "state": {
       "description_width": ""
      }
     },
     "2e1a2ca1b8974e2899b0e9f1161ea4d1": {
      "model_module": "@jupyter-widgets/controls",
      "model_module_version": "1.5.0",
      "model_name": "DescriptionStyleModel",
      "state": {
       "description_width": ""
      }
     },
     "314c1e35fb514d5d9319073dac04fdb2": {
      "model_module": "@jupyter-widgets/controls",
      "model_module_version": "1.5.0",
      "model_name": "HTMLModel",
      "state": {
       "layout": "IPY_MODEL_b7eaba21dd614d6b9c7559f550b5fe20",
       "style": "IPY_MODEL_ea42910a87414cf88005b449bc21ee68",
       "value": "<h5>Backend</h5>"
      }
     },
     "3c5e62554e3c47f3826b6a0bc52d16b8": {
      "model_module": "@jupyter-widgets/base",
      "model_module_version": "1.2.0",
      "model_name": "LayoutModel",
      "state": {
       "width": "190px"
      }
     },
     "47c3b26d867841238893d1216c9b761b": {
      "model_module": "@jupyter-widgets/controls",
      "model_module_version": "1.5.0",
      "model_name": "HTMLModel",
      "state": {
       "layout": "IPY_MODEL_d2c8dacbf0cd4ddcb19ac4b31948d04e",
       "style": "IPY_MODEL_481cc293e00a4041a84a0aa860eb427a",
       "value": "<p style='font-family: IBM Plex Sans, Arial, Helvetica, sans-serif; font-size: 20px; font-weight: medium;'>Circuit Properties</p>"
      }
     },
     "481cc293e00a4041a84a0aa860eb427a": {
      "model_module": "@jupyter-widgets/controls",
      "model_module_version": "1.5.0",
      "model_name": "DescriptionStyleModel",
      "state": {
       "description_width": ""
      }
     },
     "4b3236e9beca4db6a698ae28dbc1e22c": {
      "model_module": "@jupyter-widgets/base",
      "model_module_version": "1.2.0",
      "model_name": "LayoutModel",
      "state": {
       "margin": "0px 0px 0px 37px",
       "width": "600px"
      }
     },
     "631a448756ee40f9a907017871d0135e": {
      "model_module": "@jupyter-widgets/base",
      "model_module_version": "1.2.0",
      "model_name": "LayoutModel",
      "state": {
       "grid_area": "right",
       "padding": "0px 0px 0px 0px",
       "width": "70px"
      }
     },
     "84eb828458034822969e6e5f817252db": {
      "model_module": "@jupyter-widgets/base",
      "model_module_version": "1.2.0",
      "model_name": "LayoutModel",
      "state": {
       "width": "70px"
      }
     },
     "a5fbee9aaab74a10ad7af5ba885dbf3c": {
      "model_module": "@jupyter-widgets/base",
      "model_module_version": "1.2.0",
      "model_name": "LayoutModel",
      "state": {}
     },
     "ab1474fceb0046de887ba8f05f138ea6": {
      "model_module": "@jupyter-widgets/controls",
      "model_module_version": "1.5.0",
      "model_name": "DescriptionStyleModel",
      "state": {
       "description_width": ""
      }
     },
     "b073274f29524141b7528dc2750fa22a": {
      "model_module": "@jupyter-widgets/controls",
      "model_module_version": "1.5.0",
      "model_name": "GridBoxModel",
      "state": {
       "children": [
        "IPY_MODEL_c5d11c2230434aafad508a03a5ce8f6f"
       ],
       "layout": "IPY_MODEL_d198098e148c4a9cab733a05e25ff0e4"
      }
     },
     "b7eaba21dd614d6b9c7559f550b5fe20": {
      "model_module": "@jupyter-widgets/base",
      "model_module_version": "1.2.0",
      "model_name": "LayoutModel",
      "state": {
       "width": "145px"
      }
     },
     "c5d11c2230434aafad508a03a5ce8f6f": {
      "model_module": "@jupyter-widgets/controls",
      "model_module_version": "1.5.0",
      "model_name": "ButtonModel",
      "state": {
       "button_style": "primary",
       "description": "Clear",
       "layout": "IPY_MODEL_631a448756ee40f9a907017871d0135e",
       "style": "IPY_MODEL_0a044dfb52f94a1080c60df95701ed62"
      }
     },
     "d198098e148c4a9cab733a05e25ff0e4": {
      "model_module": "@jupyter-widgets/base",
      "model_module_version": "1.2.0",
      "model_name": "LayoutModel",
      "state": {
       "grid_template_areas": "\n                                       \". . . . right \"\n                                        ",
       "grid_template_columns": "20% 20% 20% 20% 20%",
       "width": "100%"
      }
     },
     "d2c8dacbf0cd4ddcb19ac4b31948d04e": {
      "model_module": "@jupyter-widgets/base",
      "model_module_version": "1.2.0",
      "model_name": "LayoutModel",
      "state": {
       "margin": "0px 0px 10px 0px"
      }
     },
     "ea42910a87414cf88005b449bc21ee68": {
      "model_module": "@jupyter-widgets/controls",
      "model_module_version": "1.5.0",
      "model_name": "DescriptionStyleModel",
      "state": {
       "description_width": ""
      }
     },
     "f3a2db5c49b344758403fd480b996566": {
      "model_module": "@jupyter-widgets/controls",
      "model_module_version": "1.5.0",
      "model_name": "HTMLModel",
      "state": {
       "layout": "IPY_MODEL_3c5e62554e3c47f3826b6a0bc52d16b8",
       "style": "IPY_MODEL_1f12ec472080464bbdfff6246cf88bc9",
       "value": "<h5>Job ID</h5>"
      }
     }
    },
    "version_major": 2,
    "version_minor": 0
   }
  }
 },
 "nbformat": 4,
 "nbformat_minor": 5
}
